{
  "nbformat": 4,
  "nbformat_minor": 0,
  "metadata": {
    "colab": {
      "name": "part_3.ipynb",
      "provenance": []
    },
    "kernelspec": {
      "name": "python3",
      "display_name": "Python 3"
    },
    "language_info": {
      "name": "python"
    }
  },
  "cells": [
    {
      "cell_type": "code",
      "metadata": {
        "id": "aa0NywZhDd-g"
      },
      "source": [
        "import pandas as pd\n",
        "import json\n",
        "import glob\n",
        "import re\n",
        "import gzip"
      ],
      "execution_count": 1,
      "outputs": []
    },
    {
      "cell_type": "code",
      "metadata": {
        "id": "r0IckxljJVXw"
      },
      "source": [
        "path = '/content/drive/MyDrive/Data challenges/Fetch rewards'\n",
        "\n",
        "# read in data\n",
        "datasets = dict()\n",
        "for file in glob.glob(f'{path}/*.json.gz'):\n",
        "    with gzip.open(file) as f:\n",
        "        datasets[file] = pd.DataFrame(\n",
        "            [json.loads(s) for s in f.read().decode().strip().split(\"\\n\") ] )\n",
        "\n",
        "# to dataframes\n",
        "df_brands = datasets[f'{path}/brands.json.gz']\n",
        "df_receipts = datasets[f'{path}/receipts.json.gz']\n",
        "df_users = datasets[f'{path}/users.json.gz']"
      ],
      "execution_count": 2,
      "outputs": []
    },
    {
      "cell_type": "code",
      "metadata": {
        "colab": {
          "base_uri": "https://localhost:8080/"
        },
        "id": "wfZ3ZxJiZLv4",
        "outputId": "f8167bad-d7d8-499e-bd97-0eb683a395fe"
      },
      "source": [
        "df_receipts.info()"
      ],
      "execution_count": 3,
      "outputs": [
        {
          "output_type": "stream",
          "text": [
            "<class 'pandas.core.frame.DataFrame'>\n",
            "RangeIndex: 1119 entries, 0 to 1118\n",
            "Data columns (total 15 columns):\n",
            " #   Column                   Non-Null Count  Dtype  \n",
            "---  ------                   --------------  -----  \n",
            " 0   _id                      1119 non-null   object \n",
            " 1   bonusPointsEarned        544 non-null    float64\n",
            " 2   bonusPointsEarnedReason  544 non-null    object \n",
            " 3   createDate               1119 non-null   object \n",
            " 4   dateScanned              1119 non-null   object \n",
            " 5   finishedDate             568 non-null    object \n",
            " 6   modifyDate               1119 non-null   object \n",
            " 7   pointsAwardedDate        537 non-null    object \n",
            " 8   pointsEarned             609 non-null    object \n",
            " 9   purchaseDate             671 non-null    object \n",
            " 10  purchasedItemCount       635 non-null    float64\n",
            " 11  rewardsReceiptItemList   679 non-null    object \n",
            " 12  rewardsReceiptStatus     1119 non-null   object \n",
            " 13  totalSpent               684 non-null    object \n",
            " 14  userId                   1119 non-null   object \n",
            "dtypes: float64(2), object(13)\n",
            "memory usage: 131.3+ KB\n"
          ],
          "name": "stdout"
        }
      ]
    },
    {
      "cell_type": "code",
      "metadata": {
        "colab": {
          "base_uri": "https://localhost:8080/"
        },
        "id": "0giFRYkCZLk2",
        "outputId": "c459f957-961d-4d8f-fc36-3877bfe2c533"
      },
      "source": [
        "df_users.info()"
      ],
      "execution_count": 4,
      "outputs": [
        {
          "output_type": "stream",
          "text": [
            "<class 'pandas.core.frame.DataFrame'>\n",
            "RangeIndex: 495 entries, 0 to 494\n",
            "Data columns (total 7 columns):\n",
            " #   Column        Non-Null Count  Dtype \n",
            "---  ------        --------------  ----- \n",
            " 0   _id           495 non-null    object\n",
            " 1   active        495 non-null    bool  \n",
            " 2   createdDate   495 non-null    object\n",
            " 3   lastLogin     433 non-null    object\n",
            " 4   role          495 non-null    object\n",
            " 5   signUpSource  447 non-null    object\n",
            " 6   state         439 non-null    object\n",
            "dtypes: bool(1), object(6)\n",
            "memory usage: 23.8+ KB\n"
          ],
          "name": "stdout"
        }
      ]
    },
    {
      "cell_type": "code",
      "metadata": {
        "colab": {
          "base_uri": "https://localhost:8080/"
        },
        "id": "VmPVFf5RZLaz",
        "outputId": "4cd015f3-afad-4b45-b3c5-6725db1dcfec"
      },
      "source": [
        "df_brands.info()"
      ],
      "execution_count": 5,
      "outputs": [
        {
          "output_type": "stream",
          "text": [
            "<class 'pandas.core.frame.DataFrame'>\n",
            "RangeIndex: 1167 entries, 0 to 1166\n",
            "Data columns (total 8 columns):\n",
            " #   Column        Non-Null Count  Dtype \n",
            "---  ------        --------------  ----- \n",
            " 0   _id           1167 non-null   object\n",
            " 1   barcode       1167 non-null   object\n",
            " 2   category      1012 non-null   object\n",
            " 3   categoryCode  517 non-null    object\n",
            " 4   cpg           1167 non-null   object\n",
            " 5   name          1167 non-null   object\n",
            " 6   topBrand      555 non-null    object\n",
            " 7   brandCode     933 non-null    object\n",
            "dtypes: object(8)\n",
            "memory usage: 73.1+ KB\n"
          ],
          "name": "stdout"
        }
      ]
    },
    {
      "cell_type": "markdown",
      "metadata": {
        "id": "2kd5yuckZnZ_"
      },
      "source": [
        "## Unnest ID fields and check for uniqueness"
      ]
    },
    {
      "cell_type": "code",
      "metadata": {
        "colab": {
          "base_uri": "https://localhost:8080/"
        },
        "id": "gjwhOSVpZm9C",
        "outputId": "7d854f1c-fe25-4399-9fd9-543089f3dec5"
      },
      "source": [
        "# extract IDs\n",
        "get_oid = lambda x: x.get('$oid')\n",
        "df_receipts['id'] = df_receipts['_id'].apply(get_oid)\n",
        "df_users['id'] = df_users['_id'].apply(get_oid)\n",
        "df_brands['id'] = df_brands['_id'].apply(get_oid)\n",
        "df_brands['cpg_id'] = df_brands['cpg'].apply(lambda x: x.get('$id').get('$oid'))\n",
        "\n",
        "# check for uniqueness\n",
        "columns = [\n",
        "    df_receipts['id'], \n",
        "    df_users['id'], \n",
        "    df_brands['id'], df_brands['cpg_id'], df_brands['barcode'], df_brands['brandCode']\n",
        "]\n",
        "\n",
        "for column in columns:\n",
        "    print(column.name, len(column.dropna()) == len(column.dropna().unique()))"
      ],
      "execution_count": 81,
      "outputs": [
        {
          "output_type": "stream",
          "text": [
            "id True\n",
            "id False\n",
            "id True\n",
            "cpg_id False\n",
            "barcode False\n",
            "brandCode False\n"
          ],
          "name": "stdout"
        }
      ]
    },
    {
      "cell_type": "markdown",
      "metadata": {
        "id": "3QPZtoy88wuZ"
      },
      "source": [
        "Why is userId not unique? Rows appear to be whole duplicates of user record"
      ]
    },
    {
      "cell_type": "code",
      "metadata": {
        "colab": {
          "base_uri": "https://localhost:8080/",
          "height": 121
        },
        "id": "Y_nEJ5_xZLS1",
        "outputId": "6ad91abd-c2c7-4b75-844e-870a2b1169f3"
      },
      "source": [
        "vc_ids = df_users['id'].value_counts()\n",
        "most_common_id = vc_ids.index[0]\n",
        "df_users.loc[df_users['id'] == most_common_id].to_markdown()"
      ],
      "execution_count": 87,
      "outputs": [
        {
          "output_type": "execute_result",
          "data": {
            "application/vnd.google.colaboratory.intrinsic+json": {
              "type": "string"
            },
            "text/plain": [
              "\"|     | _id                                  | active   | createdDate              | lastLogin                | role        |   signUpSource |   state | id                       |\\n|----:|:-------------------------------------|:---------|:-------------------------|:-------------------------|:------------|---------------:|--------:|:-------------------------|\\n| 475 | {'$oid': '54943462e4b07e684157a532'} | True     | {'$date': 1418998882381} | {'$date': 1614963143204} | fetch-staff |            nan |     nan | 54943462e4b07e684157a532 |\\n| 476 | {'$oid': '54943462e4b07e684157a532'} | True     | {'$date': 1418998882381} | {'$date': 1614963143204} | fetch-staff |            nan |     nan | 54943462e4b07e684157a532 |\\n| 477 | {'$oid': '54943462e4b07e684157a532'} | True     | {'$date': 1418998882381} | {'$date': 1614963143204} | fetch-staff |            nan |     nan | 54943462e4b07e684157a532 |\\n| 478 | {'$oid': '54943462e4b07e684157a532'} | True     | {'$date': 1418998882381} | {'$date': 1614963143204} | fetch-staff |            nan |     nan | 54943462e4b07e684157a532 |\\n| 479 | {'$oid': '54943462e4b07e684157a532'} | True     | {'$date': 1418998882381} | {'$date': 1614963143204} | fetch-staff |            nan |     nan | 54943462e4b07e684157a532 |\\n| 480 | {'$oid': '54943462e4b07e684157a532'} | True     | {'$date': 1418998882381} | {'$date': 1614963143204} | fetch-staff |            nan |     nan | 54943462e4b07e684157a532 |\\n| 481 | {'$oid': '54943462e4b07e684157a532'} | True     | {'$date': 1418998882381} | {'$date': 1614963143204} | fetch-staff |            nan |     nan | 54943462e4b07e684157a532 |\\n| 482 | {'$oid': '54943462e4b07e684157a532'} | True     | {'$date': 1418998882381} | {'$date': 1614963143204} | fetch-staff |            nan |     nan | 54943462e4b07e684157a532 |\\n| 483 | {'$oid': '54943462e4b07e684157a532'} | True     | {'$date': 1418998882381} | {'$date': 1614963143204} | fetch-staff |            nan |     nan | 54943462e4b07e684157a532 |\\n| 484 | {'$oid': '54943462e4b07e684157a532'} | True     | {'$date': 1418998882381} | {'$date': 1614963143204} | fetch-staff |            nan |     nan | 54943462e4b07e684157a532 |\\n| 485 | {'$oid': '54943462e4b07e684157a532'} | True     | {'$date': 1418998882381} | {'$date': 1614963143204} | fetch-staff |            nan |     nan | 54943462e4b07e684157a532 |\\n| 486 | {'$oid': '54943462e4b07e684157a532'} | True     | {'$date': 1418998882381} | {'$date': 1614963143204} | fetch-staff |            nan |     nan | 54943462e4b07e684157a532 |\\n| 487 | {'$oid': '54943462e4b07e684157a532'} | True     | {'$date': 1418998882381} | {'$date': 1614963143204} | fetch-staff |            nan |     nan | 54943462e4b07e684157a532 |\\n| 488 | {'$oid': '54943462e4b07e684157a532'} | True     | {'$date': 1418998882381} | {'$date': 1614963143204} | fetch-staff |            nan |     nan | 54943462e4b07e684157a532 |\\n| 489 | {'$oid': '54943462e4b07e684157a532'} | True     | {'$date': 1418998882381} | {'$date': 1614963143204} | fetch-staff |            nan |     nan | 54943462e4b07e684157a532 |\\n| 490 | {'$oid': '54943462e4b07e684157a532'} | True     | {'$date': 1418998882381} | {'$date': 1614963143204} | fetch-staff |            nan |     nan | 54943462e4b07e684157a532 |\\n| 491 | {'$oid': '54943462e4b07e684157a532'} | True     | {'$date': 1418998882381} | {'$date': 1614963143204} | fetch-staff |            nan |     nan | 54943462e4b07e684157a532 |\\n| 492 | {'$oid': '54943462e4b07e684157a532'} | True     | {'$date': 1418998882381} | {'$date': 1614963143204} | fetch-staff |            nan |     nan | 54943462e4b07e684157a532 |\\n| 493 | {'$oid': '54943462e4b07e684157a532'} | True     | {'$date': 1418998882381} | {'$date': 1614963143204} | fetch-staff |            nan |     nan | 54943462e4b07e684157a532 |\\n| 494 | {'$oid': '54943462e4b07e684157a532'} | True     | {'$date': 1418998882381} | {'$date': 1614963143204} | fetch-staff |            nan |     nan | 54943462e4b07e684157a532 |\""
            ]
          },
          "metadata": {
            "tags": []
          },
          "execution_count": 87
        }
      ]
    },
    {
      "cell_type": "markdown",
      "metadata": {
        "id": "wkdBsN1vg_AB"
      },
      "source": [
        "## `rewardsReceiptItemList` is a repeated field of json records. Let's explore its content and tie it back to the receipt ID"
      ]
    },
    {
      "cell_type": "code",
      "metadata": {
        "colab": {
          "base_uri": "https://localhost:8080/"
        },
        "id": "Ty74wRurirCg",
        "outputId": "aef1649d-b292-40a5-b9ec-f78c4310070f"
      },
      "source": [
        "# how many receipts are missing this item list?\n",
        "missing_item_lists = df_receipts.loc[df_receipts['rewardsReceiptItemList'].isnull()]\n",
        "print(f'Missing {missing_item_lists.shape[0]} out of {len(df_receipts)}')"
      ],
      "execution_count": 43,
      "outputs": [
        {
          "output_type": "stream",
          "text": [
            "Missing 440 out of 1119\n"
          ],
          "name": "stdout"
        }
      ]
    },
    {
      "cell_type": "code",
      "metadata": {
        "colab": {
          "base_uri": "https://localhost:8080/"
        },
        "id": "ZZlr81BotKN7",
        "outputId": "1a0f5fe2-946c-4e30-c821-6cc86259cc24"
      },
      "source": [
        "# They do not appear to have any spend totals\n",
        "pd.to_numeric(missing_item_lists['totalSpent']).sum()"
      ],
      "execution_count": 39,
      "outputs": [
        {
          "output_type": "execute_result",
          "data": {
            "text/plain": [
              "0.0"
            ]
          },
          "metadata": {
            "tags": []
          },
          "execution_count": 39
        }
      ]
    },
    {
      "cell_type": "code",
      "metadata": {
        "colab": {
          "base_uri": "https://localhost:8080/"
        },
        "id": "MgbE3k-gtSRx",
        "outputId": "6c2dc32c-f12f-4af8-88e2-dd9352243d08"
      },
      "source": [
        "# They do not appear to be exclusive to a status\n",
        "missing_item_lists['rewardsReceiptStatus'].value_counts()"
      ],
      "execution_count": 47,
      "outputs": [
        {
          "output_type": "execute_result",
          "data": {
            "text/plain": [
              "SUBMITTED    434\n",
              "REJECTED       3\n",
              "FINISHED       2\n",
              "PENDING        1\n",
              "Name: rewardsReceiptStatus, dtype: int64"
            ]
          },
          "metadata": {
            "tags": []
          },
          "execution_count": 47
        }
      ]
    },
    {
      "cell_type": "code",
      "metadata": {
        "id": "e1zBb7kGZLK9"
      },
      "source": [
        "# create a new dataframe of the receipt items to understand its schema\n",
        "receipt_items = df_receipts\\\n",
        "                    .dropna(subset=['rewardsReceiptItemList'])\\\n",
        "                    .explode('rewardsReceiptItemList')\\\n",
        "                    .reset_index(drop=True)\\\n",
        "                    .loc[:, ['id', 'rewardsReceiptItemList']]\n",
        "records = receipt_items['rewardsReceiptItemList']\\\n",
        "            .apply(lambda x: {} if pd.isnull(x) else x)\\\n",
        "            .tolist()\n",
        "items_frame = pd.DataFrame(records)\n",
        "df_receiptItems = pd.concat([receipt_items, items_frame], axis=1).drop(columns=['rewardsReceiptItemList'])"
      ],
      "execution_count": 54,
      "outputs": []
    },
    {
      "cell_type": "code",
      "metadata": {
        "colab": {
          "base_uri": "https://localhost:8080/"
        },
        "id": "P-4sZIVFZLCm",
        "outputId": "69241c7f-1216-4d10-dba6-a7e3fc4a10f5"
      },
      "source": [
        "df_receiptItems.info()"
      ],
      "execution_count": 55,
      "outputs": [
        {
          "output_type": "stream",
          "text": [
            "<class 'pandas.core.frame.DataFrame'>\n",
            "RangeIndex: 6941 entries, 0 to 6940\n",
            "Data columns (total 35 columns):\n",
            " #   Column                              Non-Null Count  Dtype  \n",
            "---  ------                              --------------  -----  \n",
            " 0   id                                  6941 non-null   object \n",
            " 1   barcode                             3090 non-null   object \n",
            " 2   description                         6560 non-null   object \n",
            " 3   finalPrice                          6767 non-null   object \n",
            " 4   itemPrice                           6767 non-null   object \n",
            " 5   needsFetchReview                    813 non-null    object \n",
            " 6   partnerItemId                       6941 non-null   object \n",
            " 7   preventTargetGapPoints              358 non-null    object \n",
            " 8   quantityPurchased                   6767 non-null   float64\n",
            " 9   userFlaggedBarcode                  337 non-null    object \n",
            " 10  userFlaggedNewItem                  323 non-null    object \n",
            " 11  userFlaggedPrice                    299 non-null    object \n",
            " 12  userFlaggedQuantity                 299 non-null    float64\n",
            " 13  needsFetchReviewReason              219 non-null    object \n",
            " 14  pointsNotAwardedReason              340 non-null    object \n",
            " 15  pointsPayerId                       1267 non-null   object \n",
            " 16  rewardsGroup                        1731 non-null   object \n",
            " 17  rewardsProductPartnerId             2269 non-null   object \n",
            " 18  userFlaggedDescription              205 non-null    object \n",
            " 19  originalMetaBriteBarcode            71 non-null     object \n",
            " 20  originalMetaBriteDescription        10 non-null     object \n",
            " 21  brandCode                           2600 non-null   object \n",
            " 22  competitorRewardsGroup              275 non-null    object \n",
            " 23  discountedItemPrice                 5769 non-null   object \n",
            " 24  originalReceiptItemText             5760 non-null   object \n",
            " 25  itemNumber                          153 non-null    object \n",
            " 26  originalMetaBriteQuantityPurchased  15 non-null     float64\n",
            " 27  pointsEarned                        927 non-null    object \n",
            " 28  targetPrice                         378 non-null    object \n",
            " 29  competitiveProduct                  645 non-null    object \n",
            " 30  originalFinalPrice                  9 non-null      object \n",
            " 31  originalMetaBriteItemPrice          9 non-null      object \n",
            " 32  deleted                             9 non-null      object \n",
            " 33  priceAfterCoupon                    956 non-null    object \n",
            " 34  metabriteCampaignId                 863 non-null    object \n",
            "dtypes: float64(3), object(32)\n",
            "memory usage: 1.9+ MB\n"
          ],
          "name": "stdout"
        }
      ]
    },
    {
      "cell_type": "markdown",
      "metadata": {
        "id": "TXJeXH66wU_i"
      },
      "source": [
        "Above schema indicates that `partnerItemId` is the only non-null field found in a given receiptItem entity, but as a non-unique numeric field it does not appear to be a reliable foreign key"
      ]
    },
    {
      "cell_type": "code",
      "metadata": {
        "colab": {
          "base_uri": "https://localhost:8080/"
        },
        "id": "vA0nuyGUzb6n",
        "outputId": "f1206e5b-8dcd-4f76-f0ea-b9c22b01bf14"
      },
      "source": [
        "df_receiptItems['partnerItemId'].head()"
      ],
      "execution_count": 49,
      "outputs": [
        {
          "output_type": "execute_result",
          "data": {
            "text/plain": [
              "0    1\n",
              "1    1\n",
              "2    2\n",
              "3    1\n",
              "4    1\n",
              "Name: partnerItemId, dtype: object"
            ]
          },
          "metadata": {
            "tags": []
          },
          "execution_count": 49
        }
      ]
    },
    {
      "cell_type": "code",
      "metadata": {
        "colab": {
          "base_uri": "https://localhost:8080/",
          "height": 265
        },
        "id": "q30vh-40ZK5e",
        "outputId": "5b678636-2878-4f0c-ff5a-9c2f33d319b5"
      },
      "source": [
        "pd.to_numeric(df_receiptItems['partnerItemId']).hist(bins=100);"
      ],
      "execution_count": 53,
      "outputs": [
        {
          "output_type": "display_data",
          "data": {
            "image/png": "[encoded data removed]",
            "text/plain": [
              "<Figure size 432x288 with 1 Axes>"
            ]
          },
          "metadata": {
            "tags": [],
            "needs_background": "light"
          }
        }
      ]
    },
    {
      "cell_type": "code",
      "metadata": {
        "id": "Zdtzgp7-q0GL"
      },
      "source": [
        ""
      ],
      "execution_count": 15,
      "outputs": []
    },
    {
      "cell_type": "markdown",
      "metadata": {
        "id": "6WsGZUVivOJE"
      },
      "source": [
        "There are some possible foreign keys to the `brands` dataframe. Let's assess their viability"
      ]
    },
    {
      "cell_type": "code",
      "metadata": {
        "colab": {
          "base_uri": "https://localhost:8080/"
        },
        "id": "Gsweus8Wyl90",
        "outputId": "7459139d-6e1e-4e21-bdc3-e2d6ceb2be9d"
      },
      "source": [
        "field_mapper = {\n",
        "    'brandCode': ['brandCode', 'name'], \n",
        "    'barcode': ['barcode'], \n",
        "    'rewardsProductPartnerId': ['id', 'cpg_id'], \n",
        "    'pointsPayerId': ['id', 'cpg_id'],\n",
        "    'partnerItemId': ['id', 'cpg_id', 'barcode', 'brandCode']\n",
        "}\n",
        "\n",
        "for receiptitem_field in field_mapper:\n",
        "    receipt_valueset = set(df_receiptItems[receiptitem_field].values)\n",
        "    for brand_field in field_mapper[receiptitem_field]:\n",
        "        brand_valueset = set(df_brands[brand_field].values)\n",
        "        match_rate = len(receipt_valueset & brand_valueset) / len(receipt_valueset)\n",
        "        print(f\"{100*round(match_rate, 2)}% of `brands.{brand_field}` matched in `receipts.{receiptitem_field}`\")"
      ],
      "execution_count": 83,
      "outputs": [
        {
          "output_type": "stream",
          "text": [
            "18.0% of `brands.brandCode` matched in `receipts.brandCode`\n",
            "1.0% of `brands.name` matched in `receipts.brandCode`\n",
            "3.0% of `brands.barcode` matched in `receipts.barcode`\n",
            "0.0% of `brands.id` matched in `receipts.rewardsProductPartnerId`\n",
            "76.0% of `brands.cpg_id` matched in `receipts.rewardsProductPartnerId`\n",
            "0.0% of `brands.id` matched in `receipts.pointsPayerId`\n",
            "75.0% of `brands.cpg_id` matched in `receipts.pointsPayerId`\n",
            "0.0% of `brands.id` matched in `receipts.partnerItemId`\n",
            "0.0% of `brands.cpg_id` matched in `receipts.partnerItemId`\n",
            "0.0% of `brands.barcode` matched in `receipts.partnerItemId`\n",
            "0.0% of `brands.brandCode` matched in `receipts.partnerItemId`\n"
          ],
          "name": "stdout"
        }
      ]
    },
    {
      "cell_type": "markdown",
      "metadata": {
        "id": "DKgBFTtS5TNZ"
      },
      "source": [
        "Unfortunately, nothing matches to the `brand.id`. \n",
        "\n",
        "A receipt item's `rewardsProductPartnerId` or `pointsPayerId` have the highest observed match rates to the CPG ID from brands. However, a CPG seems to be a grouping of brands (i.e. a dimension to a brand), so it's not something we can tie back to specific brand.\n",
        "\n",
        "This leaves us with the `brandCode` for matching receipts or receipt items to brands. This is not a good foreign key because:\n",
        "1. It is just the name of the brand as recorded by the scanned receipt line item. \n",
        "2. There are a bunch of receipt line items missing brand codes."
      ]
    },
    {
      "cell_type": "code",
      "metadata": {
        "colab": {
          "base_uri": "https://localhost:8080/"
        },
        "id": "YW4viWliylra",
        "outputId": "fa0c0960-4bd9-4a9e-bd5e-14bc39fafb86"
      },
      "source": [
        "df_brands['brandCode'].dropna().head()"
      ],
      "execution_count": 80,
      "outputs": [
        {
          "output_type": "execute_result",
          "data": {
            "text/plain": [
              "1                        STARBUCKS\n",
              "2    TEST BRANDCODE @1612366146176\n",
              "3    TEST BRANDCODE @1612366146051\n",
              "4    TEST BRANDCODE @1612366146827\n",
              "5    TEST BRANDCODE @1612366146091\n",
              "Name: brandCode, dtype: object"
            ]
          },
          "metadata": {
            "tags": []
          },
          "execution_count": 80
        }
      ]
    },
    {
      "cell_type": "code",
      "metadata": {
        "colab": {
          "base_uri": "https://localhost:8080/"
        },
        "id": "LbnSFunmBzwW",
        "outputId": "9421c31a-f6b5-419c-943b-69f9dc0fbeca"
      },
      "source": [
        "items_missing_brandcodes = df_receiptItems.brandCode.isnull().sum()\n",
        "pct = 100* round(items_missing_brandcodes / len(df_receiptItems), 2)\n",
        "print(f\"{items_missing_brandcodes} receipt items are missing brand codes, {pct}% of items in the dataset.\")"
      ],
      "execution_count": 86,
      "outputs": [
        {
          "output_type": "stream",
          "text": [
            "4341 receipt items are missing brand codes, 63.0% of items in the dataset.\n"
          ],
          "name": "stdout"
        }
      ]
    },
    {
      "cell_type": "markdown",
      "metadata": {
        "id": "tw7y7Y5cxjVO"
      },
      "source": [
        "Finally, the receiptItems schema indicates that there are multiple ways a receipt item metadata (e.g. description, barcode, price, quantity) can be logged (natively, user input,  Metabrite). Are these values coalesced into finalized metadata?"
      ]
    },
    {
      "cell_type": "code",
      "metadata": {
        "id": "j7nH-8TBRGwN"
      },
      "source": [
        ""
      ],
      "execution_count": null,
      "outputs": []
    }
  ]
}
